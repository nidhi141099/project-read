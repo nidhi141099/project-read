{
 "cells": [
  {
   "cell_type": "code",
   "execution_count": null,
   "id": "65009b6a",
   "metadata": {},
   "outputs": [],
   "source": [
    "from wordwise import Extractor\n",
    "import nltk\n",
    "from nltk.tokenize import word_tokenize, sent_tokenize\n",
    "from nltk.corpus import stopwords\n",
    "import os\n",
    "import sys\n",
    "\n",
    "extractor = Extractor()\n",
    "stop_words = set(stopwords.words('english'))\n",
    "text = \"\"\"The ocean is a huge body of saltwater that covers about 71 percent of Earth’s surface. \n",
    "           The planet has one global ocean, though oceanographers and the countries of \n",
    "           the world have traditionally divided it into four distinct regions:\n",
    "           the Pacific, Atlantic, Indian, and Arctic oceans. \n",
    "           Beginning in the 20th century, some oceanographers labeled the seas around Antarctica the Southern Ocean, \n",
    "           and in 2021 National Geographic officially recognized this fifth ocean.\"\"\"\n",
    "\n",
    "sent_tokenized = sent_tokenize(text)    \n",
    "word_tokens = word_tokenize(text)\n",
    "a = len(word_tokens)\n",
    "a = int(a/2)\n",
    "\n",
    "keywords = extractor.generate(text, a)\n",
    "\n",
    "count = 0\n",
    "for w in sent_tokenized:\n",
    "    chunk = word_tokenize(w)\n",
    "    for q in chunk:\n",
    "        if q in stop_words:\n",
    "            print(\"\\033[37m\" + q + \"\\033[0m\", end=' ')\n",
    "        elif q in keywords:\n",
    "            print(\"\\033[31m\" + q + \"\\033[0m\", end=' ')\n",
    "        else:\n",
    "            print(\"\\033[30m\" + q + \"\\033[0m\", end=' ')\n",
    "        count = count + 1\n",
    "        if count%5==0:\n",
    "            sys.stdout.write(\"   \")\n",
    "    \n",
    "    sys.stdout.write(\"\\n\\n\")"
   ]
  }
 ],
 "metadata": {
  "kernelspec": {
   "display_name": "Python 3",
   "language": "python",
   "name": "python3"
  },
  "language_info": {
   "codemirror_mode": {
    "name": "ipython",
    "version": 3
   },
   "file_extension": ".py",
   "mimetype": "text/x-python",
   "name": "python",
   "nbconvert_exporter": "python",
   "pygments_lexer": "ipython3",
   "version": "3.8.8"
  }
 },
 "nbformat": 4,
 "nbformat_minor": 5
}
