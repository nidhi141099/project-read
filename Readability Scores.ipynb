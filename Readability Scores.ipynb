{
 "cells": [
  {
   "cell_type": "code",
   "execution_count": 1,
   "id": "a9cf8324",
   "metadata": {},
   "outputs": [],
   "source": [
    "import readability\n",
    "text = ('Ram is eating mango')\n",
    "results = readability.getmeasures(text, lang='en')"
   ]
  },
  {
   "cell_type": "code",
   "execution_count": 3,
   "id": "b9c25b4a",
   "metadata": {},
   "outputs": [
    {
     "name": "stdout",
     "output_type": "stream",
     "text": [
      "3.6700000000000017\n"
     ]
    }
   ],
   "source": [
    "print(results['readability grades']['Kincaid'])"
   ]
  },
  {
   "cell_type": "code",
   "execution_count": 4,
   "id": "37a5928a",
   "metadata": {},
   "outputs": [
    {
     "name": "stdout",
     "output_type": "stream",
     "text": [
      "-0.5899999999999999\n"
     ]
    }
   ],
   "source": [
    "print(results['readability grades']['ARI'])"
   ]
  },
  {
   "cell_type": "code",
   "execution_count": 5,
   "id": "6bd0e2e6",
   "metadata": {},
   "outputs": [
    {
     "name": "stdout",
     "output_type": "stream",
     "text": [
      "0.32178000000000395\n"
     ]
    }
   ],
   "source": [
    "print(results['readability grades']['Coleman-Liau'])"
   ]
  },
  {
   "cell_type": "code",
   "execution_count": 6,
   "id": "fdfd8c95",
   "metadata": {},
   "outputs": [
    {
     "name": "stdout",
     "output_type": "stream",
     "text": [
      "75.87500000000001\n"
     ]
    }
   ],
   "source": [
    "print(results['readability grades']['FleschReadingEase'])"
   ]
  },
  {
   "cell_type": "code",
   "execution_count": 8,
   "id": "b1323ec6",
   "metadata": {},
   "outputs": [
    {
     "name": "stdout",
     "output_type": "stream",
     "text": [
      "1.6\n"
     ]
    }
   ],
   "source": [
    "print(results['readability grades']['GunningFogIndex'])"
   ]
  },
  {
   "cell_type": "code",
   "execution_count": 7,
   "id": "48a9bb1b",
   "metadata": {},
   "outputs": [
    {
     "name": "stdout",
     "output_type": "stream",
     "text": [
      "4.0\n"
     ]
    }
   ],
   "source": [
    "print(results['readability grades']['LIX'])"
   ]
  },
  {
   "cell_type": "code",
   "execution_count": 9,
   "id": "d7a0ea35",
   "metadata": {},
   "outputs": [
    {
     "name": "stdout",
     "output_type": "stream",
     "text": [
      "3.0\n"
     ]
    }
   ],
   "source": [
    "print(results['readability grades']['SMOGIndex'])"
   ]
  },
  {
   "cell_type": "code",
   "execution_count": 11,
   "id": "ebe4dc4f",
   "metadata": {},
   "outputs": [
    {
     "name": "stdout",
     "output_type": "stream",
     "text": [
      "0.0\n"
     ]
    }
   ],
   "source": [
    "print(results['readability grades']['RIX'])"
   ]
  },
  {
   "cell_type": "code",
   "execution_count": 10,
   "id": "510c52df",
   "metadata": {},
   "outputs": [
    {
     "name": "stdout",
     "output_type": "stream",
     "text": [
      "11.7299\n"
     ]
    }
   ],
   "source": [
    "print(results['readability grades']['DaleChallIndex'])"
   ]
  }
 ],
 "metadata": {
  "kernelspec": {
   "display_name": "Python 3",
   "language": "python",
   "name": "python3"
  },
  "language_info": {
   "codemirror_mode": {
    "name": "ipython",
    "version": 3
   },
   "file_extension": ".py",
   "mimetype": "text/x-python",
   "name": "python",
   "nbconvert_exporter": "python",
   "pygments_lexer": "ipython3",
   "version": "3.8.8"
  }
 },
 "nbformat": 4,
 "nbformat_minor": 5
}
